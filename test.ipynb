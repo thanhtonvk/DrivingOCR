{
 "cells": [
  {
   "cell_type": "code",
   "execution_count": 13,
   "metadata": {},
   "outputs": [
    {
     "name": "stdout",
     "output_type": "stream",
     "text": [
      "Found existing installation: labelImg 1.8.6\n",
      "Uninstalling labelImg-1.8.6:\n",
      "  Would remove:\n",
      "    /home/atun/miniconda3/envs/burma_card_reader/bin/labelImg\n",
      "    /home/atun/miniconda3/envs/burma_card_reader/lib/python3.8/site-packages/labelImg-1.8.6.dist-info/*\n",
      "    /home/atun/miniconda3/envs/burma_card_reader/lib/python3.8/site-packages/labelImg/*\n",
      "    /home/atun/miniconda3/envs/burma_card_reader/lib/python3.8/site-packages/libs/*\n",
      "Proceed (Y/n)? ^C\n",
      "\u001b[31mERROR: Operation cancelled by user\u001b[0m\u001b[31m\n",
      "\u001b[0m"
     ]
    }
   ],
   "source": [
    "!pip uninstall labelImg"
   ]
  },
  {
   "cell_type": "code",
   "execution_count": null,
   "metadata": {},
   "outputs": [],
   "source": [
    "from docaligner import DocAligner\n",
    "import docsaidkit as D\n",
    "from docsaidkit import Backend\n",
    "from docaligner import DocAligner, ModelType\n",
    "model = DocAligner(\n",
    "    gpu_id=0,  # GPU ID, set to -1 if not using GPU\n",
    "    backend=Backend.cpu,  # Choose the computational backend, can be Backend.cpu or Backend.cuda\n",
    "    model_type=ModelType.point  # Choose the model type, can be ModelType.heatmap or ModelType.point\n",
    ")"
   ]
  },
  {
   "cell_type": "code",
   "execution_count": 17,
   "metadata": {},
   "outputs": [
    {
     "ename": "NameError",
     "evalue": "name 'D' is not defined",
     "output_type": "error",
     "traceback": [
      "\u001b[0;31m---------------------------------------------------------------------------\u001b[0m",
      "\u001b[0;31mNameError\u001b[0m                                 Traceback (most recent call last)",
      "Cell \u001b[0;32mIn[17], line 2\u001b[0m\n\u001b[1;32m      1\u001b[0m \u001b[38;5;28;01mimport\u001b[39;00m \u001b[38;5;21;01mmatplotlib\u001b[39;00m\u001b[38;5;21;01m.\u001b[39;00m\u001b[38;5;21;01mpyplot\u001b[39;00m \u001b[38;5;28;01mas\u001b[39;00m \u001b[38;5;21;01mplt\u001b[39;00m\n\u001b[0;32m----> 2\u001b[0m img \u001b[38;5;241m=\u001b[39m \u001b[43mD\u001b[49m\u001b[38;5;241m.\u001b[39mimread(\u001b[38;5;124m'\u001b[39m\u001b[38;5;124mcap-dang-ky-bien-so-xe.png\u001b[39m\u001b[38;5;124m'\u001b[39m)\n\u001b[1;32m      4\u001b[0m result \u001b[38;5;241m=\u001b[39m model(img)\n\u001b[1;32m      5\u001b[0m \u001b[38;5;28mprint\u001b[39m(result\u001b[38;5;241m.\u001b[39mdoc_polygon)\n",
      "\u001b[0;31mNameError\u001b[0m: name 'D' is not defined"
     ]
    }
   ],
   "source": [
    "import matplotlib.pyplot as plt\n",
    "img = D.imread('cap-dang-ky-bien-so-xe.png')\n",
    "\n",
    "result = model(img)\n",
    "print(result.doc_polygon)\n",
    "flat_img = result.gen_doc_flat_img(image_size=(539, 856))\n",
    "plt.imshow(flat_img)\n",
    "plt.show()\n",
    "# D.imwrite(output_img)\n",
    "# D.imwrite(flat_img)"
   ]
  },
  {
   "cell_type": "code",
   "execution_count": 2,
   "metadata": {},
   "outputs": [
    {
     "name": "stdout",
     "output_type": "stream",
     "text": [
      "CHU NCOC THÁI\n"
     ]
    }
   ],
   "source": [
    "from modules.reader import ocr\n",
    "reader = ocr.Reader(gpu= True, verbose=False,quantize=True) # this needs to run only once to load the model into memory\n",
    "import cv2\n",
    "image = cv2.imread('image.png')\n",
    "image = cv2.cvtColor(image,cv2.COLOR_BGR2GRAY)\n",
    "result = reader.readtext(image)\n",
    "text_result = ' '.join([i[1] for i in result if i[2]>0.1])\n",
    "print(text_result)"
   ]
  },
  {
   "cell_type": "code",
   "execution_count": null,
   "metadata": {},
   "outputs": [],
   "source": [
    "!unzip dklx.zip"
   ]
  },
  {
   "cell_type": "code",
   "execution_count": 21,
   "metadata": {},
   "outputs": [
    {
     "name": "stdout",
     "output_type": "stream",
     "text": [
      "{0: 'cong_an_tinh_vi', 1: 'cong_an_tinh_en', 2: 'cong_an_huyen_vi', 3: 'cong_an_huyen_en', 4: 'so', 5: 'ten_chu_xe', 6: 'dia_chi', 7: 'nhan_hieu', 8: 'so_loai', 9: 'so_may', 10: 'so_khung', 11: 'mau_son', 12: 'bien_so', 13: 'qr', 14: 'dung_tich'}\n"
     ]
    }
   ],
   "source": [
    "from ultralytics import YOLO\n",
    "import cv2\n",
    "image = cv2.imread('dong-dau-tron-len-chu-ky.jpg')\n",
    "model = YOLO('models/field_detect_yolov11.pt')\n",
    "classes = model.names\n",
    "result = model.predict(image,verbose = False)[0]\n",
    "print(classes)"
   ]
  },
  {
   "cell_type": "code",
   "execution_count": 22,
   "metadata": {},
   "outputs": [
    {
     "name": "stdout",
     "output_type": "stream",
     "text": [
      "[]\n",
      "[]\n"
     ]
    }
   ],
   "source": [
    "cls = result.boxes.cls.cpu().detach().numpy().astype('int')\n",
    "xyxy = result.boxes.xyxy.cpu().detach().numpy().astype('int')\n",
    "print(cls)\n",
    "print(xyxy)"
   ]
  },
  {
   "cell_type": "code",
   "execution_count": 19,
   "metadata": {},
   "outputs": [],
   "source": [
    "result_dict = {}\n",
    "for i in set(cls):\n",
    "    result_dict[classes[i]] = []\n",
    "for id_class, box in zip(cls,xyxy):\n",
    "    xmin,ymin,xmax,ymax = box\n",
    "    cropped = image[ymin:ymax,xmin:xmax]\n",
    "    result_dict[classes[id_class]].append(cropped)"
   ]
  },
  {
   "cell_type": "code",
   "execution_count": 1,
   "metadata": {},
   "outputs": [
    {
     "name": "stderr",
     "output_type": "stream",
     "text": [
      "/home/atun/miniconda3/envs/burma_card_reader/lib/python3.8/site-packages/torch/cuda/__init__.py:128: UserWarning: CUDA initialization: The NVIDIA driver on your system is too old (found version 11080). Please update your GPU driver by downloading and installing a new version from the URL: http://www.nvidia.com/Download/index.aspx Alternatively, go to: https://pytorch.org to install a PyTorch version that has been compiled with your version of the CUDA driver. (Triggered internally at ../c10/cuda/CUDAFunctions.cpp:108.)\n",
      "  return torch._C._cuda_getDeviceCount() > 0\n",
      "Neither CUDA nor MPS are available - defaulting to CPU. Note: This module is much faster with a GPU.\n"
     ]
    },
    {
     "name": "stdout",
     "output_type": "stream",
     "text": [
      "{'cong_an_tinh_vi': 'CÔNG AN THÀNH PHỐ HÀ NỘI', 'cong_an_tinh_en': \"Ha Noi city's Public security\", 'cong_an_huyen_vi': 'CÔNG AN QUẬN CẦU GIẤY', 'cong_an_huyen_en': \"Cau district's Public security Giay\", 'so': '29'}\n"
     ]
    }
   ],
   "source": [
    "import cv2\n",
    "from modules.card_recognition import CardRecognition\n",
    "cardRecogntion = CardRecognition()\n",
    "image = cv2.imread('research/image_aligned/back_new.png')\n",
    "result = cardRecogntion.predict(image)\n",
    "print(result)"
   ]
  }
 ],
 "metadata": {
  "kernelspec": {
   "display_name": "burma_card_reader",
   "language": "python",
   "name": "python3"
  },
  "language_info": {
   "codemirror_mode": {
    "name": "ipython",
    "version": 3
   },
   "file_extension": ".py",
   "mimetype": "text/x-python",
   "name": "python",
   "nbconvert_exporter": "python",
   "pygments_lexer": "ipython3",
   "version": "3.8.19"
  }
 },
 "nbformat": 4,
 "nbformat_minor": 2
}
