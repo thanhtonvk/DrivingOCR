{
 "cells": [
  {
   "cell_type": "markdown",
   "metadata": {},
   "source": [
    "# install lib"
   ]
  },
  {
   "cell_type": "code",
   "execution_count": null,
   "metadata": {},
   "outputs": [],
   "source": [
    "!pip install -r requirements.txt"
   ]
  },
  {
   "cell_type": "markdown",
   "metadata": {},
   "source": [
    "# install docsaid"
   ]
  },
  {
   "cell_type": "code",
   "execution_count": null,
   "metadata": {},
   "outputs": [],
   "source": [
    "!apt install libturbojpeg exiftool ffmpeg libheif-dev\n",
    "!apt install poppler-utils\n",
    "!git clone https://github.com/DocsaidLab/DocsaidKit.git\n",
    "!pip install wheel\n",
    "%cd DocsaidKit\n",
    "!python setup.py bdist_wheel\n",
    "!pip install dist/docsaidkit-*-py3-none-any.whl"
   ]
  },
  {
   "cell_type": "markdown",
   "metadata": {},
   "source": [
    "# install docaligner"
   ]
  },
  {
   "cell_type": "code",
   "execution_count": null,
   "metadata": {},
   "outputs": [],
   "source": [
    "!git clone https://github.com/DocsaidLab/DocAligner.git\n",
    "%cd DocAligner\n",
    "!pip install setuptools wheel\n",
    "!python setup.py bdist_wheel\n",
    "!pip install dist/docaligner-*-py3-none-any.whl"
   ]
  }
 ],
 "metadata": {
  "kernelspec": {
   "display_name": "burma_card_reader",
   "language": "python",
   "name": "python3"
  },
  "language_info": {
   "name": "python",
   "version": "3.8.19"
  }
 },
 "nbformat": 4,
 "nbformat_minor": 2
}
