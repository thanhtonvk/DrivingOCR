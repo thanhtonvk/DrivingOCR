{
 "cells": [
  {
   "cell_type": "markdown",
   "metadata": {},
   "source": [
    "# Gen tinh & tp"
   ]
  },
  {
   "cell_type": "code",
   "execution_count": null,
   "metadata": {},
   "outputs": [],
   "source": [
    "import json\n",
    "\n",
    "# Open and read the JSON file\n",
    "with open('full_json_generated_data_vn_units.json', 'r') as file:\n",
    "    data = json.load(file)\n",
    "\n",
    "# Print the data\n",
    "print(data)"
   ]
  },
  {
   "cell_type": "code",
   "execution_count": 15,
   "metadata": {},
   "outputs": [],
   "source": [
    "f = open('address.txt', 'w')\n",
    "for i in data:\n",
    "    province = i['FullName']\n",
    "    disctrictsDict = i['District']\n",
    "    for i,disctrict in enumerate(disctrictsDict):\n",
    "        wardsDict = disctrict['Ward']\n",
    "        for ward in wardsDict:\n",
    "            address = ward['FullName']+','+disctrict['FullName']+','+province\n",
    "            f.write(address+'\\n')\n",
    "f.close()            "
   ]
  },
  {
   "cell_type": "code",
   "execution_count": 6,
   "metadata": {},
   "outputs": [],
   "source": [
    "f = open('address_en.txt', 'w')\n",
    "for i in data:\n",
    "    province = i['FullNameEn']\n",
    "    disctrictsDict = i['District']\n",
    "    for i,disctrict in enumerate(disctrictsDict):\n",
    "        wardsDict = disctrict['Ward']\n",
    "        for ward in wardsDict:\n",
    "            address = ward['FullNameEn']+','+disctrict['FullNameEn']+','+province\n",
    "            f.write(address+'\\n')\n",
    "f.close()            "
   ]
  },
  {
   "cell_type": "markdown",
   "metadata": {},
   "source": [
    "# ten nguoi viet nam"
   ]
  },
  {
   "cell_type": "code",
   "execution_count": 20,
   "metadata": {},
   "outputs": [],
   "source": [
    "import json\n",
    "\n",
    "# Open and read the JSON file\n",
    "with open('uit_member.json', 'r') as file:\n",
    "    data = json.load(file)\n",
    "f = open('person_name.txt','w')\n",
    "for i in data:\n",
    "    f.write(i['full_name']+'\\n')\n",
    "f.close()"
   ]
  },
  {
   "cell_type": "markdown",
   "metadata": {},
   "source": [
    "# So"
   ]
  },
  {
   "cell_type": "code",
   "execution_count": 24,
   "metadata": {},
   "outputs": [],
   "source": [
    "import random\n",
    "f = open('datatext/so.txt', 'a')\n",
    "for i in range(10000):\n",
    "    no = random.randint(10000,99999)\n",
    "    f.write(f'0{no}\\n')\n",
    "f.close()"
   ]
  },
  {
   "cell_type": "markdown",
   "metadata": {},
   "source": [
    "# So may"
   ]
  },
  {
   "cell_type": "code",
   "execution_count": 28,
   "metadata": {},
   "outputs": [],
   "source": [
    "import random\n",
    "import string\n",
    "\n",
    "def generate_random_string(length):\n",
    "    # Tạo danh sách ký tự chữ và số\n",
    "    chars = string.ascii_uppercase + string.digits\n",
    "    # Sinh chuỗi ngẫu nhiên với độ dài yêu cầu\n",
    "    random_string = ''.join(random.choice(chars) for _ in range(length))\n",
    "    return random_string\n",
    "\n",
    "\n",
    "f = open('datatext/sokhung.txt','w')\n",
    "for i in range(10000):\n",
    "    random_string = generate_random_string(17)\n",
    "    f.write(f'{random_string}\\n')\n",
    "f.close()"
   ]
  },
  {
   "cell_type": "markdown",
   "metadata": {},
   "source": [
    "# bien so"
   ]
  },
  {
   "cell_type": "code",
   "execution_count": 29,
   "metadata": {},
   "outputs": [],
   "source": [
    "import random\n",
    "import string\n",
    "\n",
    "def generate_random_plate():\n",
    "    # Tạo phần 2 số đầu\n",
    "    part1 = ''.join(random.choices(string.digits, k=2))\n",
    "    # Tạo phần 1 chữ cái\n",
    "    part2 = random.choice(string.ascii_uppercase)\n",
    "    # Tạo phần 1 số\n",
    "    part3 = random.choice(string.digits)\n",
    "    # Tạo phần 3 số sau dấu gạch ngang\n",
    "    part4 = ''.join(random.choices(string.digits, k=3))\n",
    "    # Tạo phần 2 số sau dấu chấm\n",
    "    part5 = ''.join(random.choices(string.digits, k=2))\n",
    "    \n",
    "    # Ghép các phần lại\n",
    "    random_plate = f\"{part1}{part2}{part3}-{part4}.{part5}\"\n",
    "    return random_plate\n",
    "\n",
    "f = open('datatext/bienso.txt','w')\n",
    "for i in range(10000):\n",
    "    random_plate = generate_random_plate()\n",
    "    f.write(f'{random_plate}\\n')\n",
    "f.close()\n"
   ]
  },
  {
   "cell_type": "code",
   "execution_count": 30,
   "metadata": {},
   "outputs": [],
   "source": [
    "import random\n",
    "\n",
    "def sinh_mau_xe_ngau_nhien():\n",
    "    # Danh sách các màu xe phổ biến\n",
    "    mau_xe = [\n",
    "        \"Đỏ\", \"Xanh dương\", \"Đen\", \"Trắng\", \"Bạc\", \"Xám\", \n",
    "        \"Xanh lá\", \"Vàng\", \"Cam\", \"Nâu\", \"Tím\", \n",
    "        \"Hồng\", \"Be\", \"Vàng kim\", \"Đồng\"\n",
    "    ]\n",
    "    \n",
    "    # Chọn ngẫu nhiên từ 1 đến 3 màu\n",
    "    so_luong_mau = random.randint(1, 3)\n",
    "    mau_ngau_nhien = random.sample(mau_xe, so_luong_mau)\n",
    "    \n",
    "    # Ghép các màu lại thành chuỗi\n",
    "    return ' '.join(mau_ngau_nhien)\n",
    "\n",
    "f = open('datatext/mauxe.txt','w')\n",
    "for i in range(10000):\n",
    "    mau_xe_ngau_nhien = sinh_mau_xe_ngau_nhien()\n",
    "    f.write(f'{mau_xe_ngau_nhien}\\n')\n",
    "f.close()\n",
    "\n"
   ]
  },
  {
   "cell_type": "code",
   "execution_count": 36,
   "metadata": {},
   "outputs": [],
   "source": [
    "import qrcode\n",
    "import random\n",
    "import string\n",
    "\n",
    "def sinh_noi_dung_ngau_nhien(length=10):\n",
    "    # Tạo nội dung ngẫu nhiên với độ dài đã chỉ định\n",
    "    return ''.join(random.choices(string.ascii_letters + string.digits, k=length))\n",
    "\n",
    "def tao_ma_qr(data, filename):\n",
    "    # Tạo đối tượng mã QR\n",
    "    qr = qrcode.QRCode(\n",
    "        version=1,\n",
    "        error_correction=qrcode.constants.ERROR_CORRECT_L,\n",
    "        box_size=10,\n",
    "        border=4,\n",
    "    )\n",
    "    \n",
    "    # Thêm dữ liệu vào mã QR\n",
    "    qr.add_data(data)\n",
    "    qr.make(fit=True)\n",
    "\n",
    "    # Tạo hình ảnh mã QR\n",
    "    img = qr.make_image(fill_color=\"black\", back_color=\"transparent\")\n",
    "\n",
    "    # Lưu mã QR vào file\n",
    "    img.save(filename)\n",
    "for i in range(500):\n",
    "    random_content = sinh_noi_dung_ngau_nhien(20)  # Độ dài là 20 ký tự\n",
    "    tao_ma_qr(random_content, f'datatext/qr/{i}.png')\n"
   ]
  },
  {
   "cell_type": "code",
   "execution_count": 37,
   "metadata": {},
   "outputs": [],
   "source": [
    "f = open('datatext/dungtich.txt','w')\n",
    "for i in range(50, 5000):\n",
    "    f.write(f'{i}\\n')\n",
    "f.close()"
   ]
  },
  {
   "cell_type": "code",
   "execution_count": 12,
   "metadata": {},
   "outputs": [
    {
     "name": "stderr",
     "output_type": "stream",
     "text": [
      "/snap/core20/current/lib/x86_64-linux-gnu/libstdc++.so.6: version `GLIBCXX_3.4.29' not found (required by /lib/x86_64-linux-gnu/libproxy.so.1)\n",
      "Failed to load module: /home/atun/snap/code/common/.cache/gio-modules/libgiolibproxy.so\n",
      "eog: symbol lookup error: /snap/core20/current/lib/x86_64-linux-gnu/libpthread.so.0: undefined symbol: __libc_pthread_init, version GLIBC_PRIVATE\n"
     ]
    }
   ],
   "source": [
    "from PIL import Image, ImageDraw, ImageFont\n",
    "from unidecode import unidecode\n",
    "# Font tùy chỉnh (đường dẫn đến file .ttf)\n",
    "\n",
    "def gen_text(text,save_path):\n",
    "    font_path = 'fonts/times new roman bold.ttf'  # Thay đổi đường dẫn đến font của bạn\n",
    "    font_size = 40\n",
    "    font = ImageFont.truetype(font_path, font_size)\n",
    "\n",
    "    # Tạo văn bản\n",
    "    text = unidecode(text)\n",
    "\n",
    "    # Tính toán kích thước của văn bản\n",
    "    text_size = font.getsize(text)\n",
    "\n",
    "    # Tạo ảnh mới với kích thước khớp với văn bản và nền trong suốt\n",
    "    width, height = text_size[0] + 20, text_size[1] + 20  # Thêm padding\n",
    "    transparent_image = Image.new(\"RGBA\", (width, height), (0, 0, 0, 0))\n",
    "\n",
    "    # Tạo một đối tượng vẽ\n",
    "    draw = ImageDraw.Draw(transparent_image)\n",
    "\n",
    "    # Tính toán vị trí vẽ văn bản (căn giữa với padding)\n",
    "    text_x = (width - text_size[0]) / 2\n",
    "    text_y = (height - text_size[1]) / 2\n",
    "\n",
    "    # Vẽ văn bản lên ảnh với màu đen\n",
    "    draw.text((text_x, text_y), text, font=font, fill=(0, 0, 0, 255))  # Màu đen với độ trong suốt 255\n",
    "\n",
    "    # Lưu ảnh\n",
    "    transparent_image.save(save_path)\n"
   ]
  },
  {
   "cell_type": "code",
   "execution_count": 13,
   "metadata": {},
   "outputs": [],
   "source": [
    "import os\n",
    "f = open('label_aligned/classes.txt','r')\n",
    "lines = f.readlines()\n",
    "f.close()\n",
    "for line in lines:\n",
    "    line = line.strip()\n",
    "    os.makedirs(f'image_text/{line}')"
   ]
  },
  {
   "cell_type": "code",
   "execution_count": null,
   "metadata": {},
   "outputs": [],
   "source": [
    "# bien_so\n",
    "f = open('datatext/bienso.txt','r')\n"
   ]
  }
 ],
 "metadata": {
  "kernelspec": {
   "display_name": "burma_card_reader",
   "language": "python",
   "name": "python3"
  },
  "language_info": {
   "codemirror_mode": {
    "name": "ipython",
    "version": 3
   },
   "file_extension": ".py",
   "mimetype": "text/x-python",
   "name": "python",
   "nbconvert_exporter": "python",
   "pygments_lexer": "ipython3",
   "version": "3.8.19"
  }
 },
 "nbformat": 4,
 "nbformat_minor": 2
}
